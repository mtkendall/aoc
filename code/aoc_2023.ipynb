{
 "cells": [
  {
   "cell_type": "code",
   "execution_count": 70,
   "metadata": {},
   "outputs": [],
   "source": [
    "import re\n",
    "import pandas as pd\n",
    "import numpy as np\n",
    "import math"
   ]
  },
  {
   "cell_type": "markdown",
   "metadata": {},
   "source": [
    "### Day 1"
   ]
  },
  {
   "cell_type": "code",
   "execution_count": null,
   "metadata": {},
   "outputs": [],
   "source": [
    "f = open('../data/day_1_input.txt', 'r')\n",
    "\n",
    "sum = 0\n",
    "\n",
    "for line in f:\n",
    "    nums = re.findall(r'\\d', line)\n",
    "    sum = sum + int(str(nums[0])+str(nums[-1]))\n",
    "\n",
    "sum"
   ]
  },
  {
   "cell_type": "code",
   "execution_count": null,
   "metadata": {},
   "outputs": [],
   "source": [
    "f = open('../data/day_1_input.txt', 'r')\n",
    "\n",
    "sum = 0\n",
    "\n",
    "digit_dict = {\n",
    "    'one':1,\n",
    "    'two':2,\n",
    "    'three':3,\n",
    "    'four':4,\n",
    "    'five':5,\n",
    "    'six':6,\n",
    "    'seven':7,\n",
    "    'eight':8,\n",
    "    'nine':9\n",
    "    }\n",
    "\n",
    "for line in f:\n",
    "    nums = re.findall(r'(?=(\\d|one|two|three|four|five|six|seven|eight|nine))', line)\n",
    "    for value in range(len(nums)):\n",
    "        if nums[value] in digit_dict.keys():\n",
    "            nums[value] = digit_dict[nums[value]]\n",
    "    sum = sum + int(str(nums[0])+str(nums[-1]))\n",
    "\n",
    "sum"
   ]
  },
  {
   "cell_type": "markdown",
   "metadata": {},
   "source": [
    "### Day 2"
   ]
  },
  {
   "cell_type": "code",
   "execution_count": null,
   "metadata": {},
   "outputs": [],
   "source": [
    "df = pd.DataFrame(columns = ['game_id', 'draw_id', 'red', 'blue', 'green'])"
   ]
  },
  {
   "cell_type": "code",
   "execution_count": null,
   "metadata": {},
   "outputs": [],
   "source": [
    "f = open('../data/day_2_input.txt', 'r')\n",
    "\n",
    "df = pd.DataFrame(columns = ['game_id', 'draw_id', 'red', 'blue', 'green'])\n",
    "\n",
    "for line in f: \n",
    "    \n",
    "    game_dict = {}\n",
    "\n",
    "    colon = re.search(':', line).start()\n",
    "    game_id = int(re.findall(r'\\d+',line[:colon])[0])\n",
    "    game_dict['game_id'] = game_id\n",
    "\n",
    "    match = re.finditer(';', line)\n",
    "    draws = [colon] + [m.start() for m in match] + [len(line)]\n",
    "\n",
    "    for d in range(len(draws)-1):\n",
    "        draw_str = line[draws[d]+1:draws[d+1]] \n",
    "        draw_id = d\n",
    "        game_dict['draw_id'] = d\n",
    "\n",
    "        colors = re.findall(r'blue|green|red', draw_str)\n",
    "        scores = re.findall(r'\\d+', draw_str)\n",
    "        scores = [int(s) for s in scores]\n",
    "\n",
    "        draw_dict = dict(zip(colors, scores))\n",
    "\n",
    "        record_dict = game_dict.copy()\n",
    "        record_dict.update(draw_dict)\n",
    "        record_dict = {k:[record_dict[k]] for k in record_dict.keys()}\n",
    "        \n",
    "        df = pd.concat([df, pd.DataFrame.from_records(record_dict)])\n",
    "\n",
    "final_df = (\n",
    "    df\n",
    "    .fillna(0)\n",
    "    .assign(is_possible = lambda x: np.where((x['red']<=12) & (x['green']<=13) & (x['blue'] <= 14), 1, 0))\n",
    "    .groupby('game_id')\n",
    "    .agg({'is_possible':'min'})\n",
    "    .reset_index()\n",
    "    .loc[lambda x: x['is_possible']==1, :]\n",
    ")\n",
    "\n",
    "final_df['game_id'].sum()"
   ]
  },
  {
   "cell_type": "code",
   "execution_count": null,
   "metadata": {},
   "outputs": [],
   "source": [
    "final_df = (\n",
    "    df\n",
    "    .fillna(0)\n",
    "    .groupby('game_id')\n",
    "    .max()\n",
    "    .reset_index()\n",
    "    .assign(power = lambda x: x['red']*x['blue']*x['green'])\n",
    ")\n",
    "\n",
    "final_df['power'].sum()"
   ]
  },
  {
   "cell_type": "markdown",
   "metadata": {},
   "source": [
    "### Day 3"
   ]
  },
  {
   "cell_type": "code",
   "execution_count": null,
   "metadata": {},
   "outputs": [],
   "source": [
    "f = open('../data/day_3_input.txt', 'r')\n",
    "\n",
    "symbol_dict = {}\n",
    "index = 0\n",
    "\n",
    "for line in f:\n",
    "    match_symbol = re.finditer(r'[^A-Za-z0-9.\\n]', line)\n",
    "    symbol_dict[index] = [m.start() for m in match_symbol]\n",
    "    index = index + 1\n"
   ]
  },
  {
   "cell_type": "code",
   "execution_count": null,
   "metadata": {},
   "outputs": [],
   "source": [
    "f = open('../data/day_3_input.txt', 'r')\n",
    "\n",
    "gear_dict = {}\n",
    "index = 0\n",
    "\n",
    "for line in f:\n",
    "    match_symbol = re.finditer(r'\\*', line)\n",
    "    gear_dict[index] = [m.start() for m in match_symbol]\n",
    "    index = index + 1\n",
    "\n",
    "gear_dict"
   ]
  },
  {
   "cell_type": "code",
   "execution_count": null,
   "metadata": {},
   "outputs": [],
   "source": [
    "f = open('../data/day_3_input.txt', 'r')\n",
    "\n",
    "index = 0\n",
    "part_sum = 0\n",
    "\n",
    "for line in f:\n",
    "    match_part = re.finditer(r'\\d+', line)\n",
    "    parts = [(m.start(), m.end()) for m in match_part]\n",
    "    for p in parts:\n",
    "        is_valid = 0\n",
    "        value = int(line[p[0]:p[1]])\n",
    "        if p[0] - 1 in symbol_dict[index]:\n",
    "            is_valid = 1\n",
    "        if p[1] in symbol_dict[index]:\n",
    "            is_valid = 1\n",
    "        if index < 139:\n",
    "            for x in symbol_dict[index + 1]:\n",
    "                if x >= p[0] - 1 and x <= p[1]:\n",
    "                    is_valid = 1\n",
    "        if index > 1:\n",
    "            for x in symbol_dict[index - 1]:\n",
    "                if x >= p[0] - 1 and x <= p[1]:\n",
    "                    is_valid = 1\n",
    "        if is_valid == 1:\n",
    "            part_sum = part_sum + value\n",
    "    index = index + 1\n",
    "\n",
    "part_sum"
   ]
  },
  {
   "cell_type": "code",
   "execution_count": null,
   "metadata": {},
   "outputs": [],
   "source": [
    "f = open('../data/day_3_input.txt', 'r')\n",
    "\n",
    "part_dict = {}\n",
    "index = 0\n",
    "\n",
    "for line in f:\n",
    "    match_symbol = re.finditer(r'\\d+', line)\n",
    "    part_dict[index] = [(m.start(), m.end(), int(line[m.start():m.end()])) for m in match_symbol]\n",
    "    index = index + 1"
   ]
  },
  {
   "cell_type": "code",
   "execution_count": null,
   "metadata": {},
   "outputs": [],
   "source": [
    "f = open('../data/day_3_input.txt', 'r')\n",
    "\n",
    "gear_dict = {}\n",
    "index = 0\n",
    "\n",
    "for line in f:\n",
    "    match_symbol = re.finditer(r'\\*', line)\n",
    "    gear_dict[index] = [m.start() for m in match_symbol]\n",
    "    index = index + 1"
   ]
  },
  {
   "cell_type": "code",
   "execution_count": null,
   "metadata": {},
   "outputs": [],
   "source": [
    "gear_sum = 0\n",
    "\n",
    "for line_index in range(139):\n",
    "    for i in range(len(gear_dict[line_index])):\n",
    "        matches = 0\n",
    "        match_prod = 1\n",
    "        # match_left\n",
    "        end_index = [m[1] for m in part_dict[line_index]]\n",
    "        if gear_dict[line_index][i] in end_index:\n",
    "            part_value = part_dict[line_index][end_index.index(gear_dict[line_index][i])][2]\n",
    "            matches = matches + 1\n",
    "            match_prod = match_prod*part_value\n",
    "        # match_right\n",
    "        start_index = [m[0] for m in part_dict[line_index]]\n",
    "        if gear_dict[line_index][i] + 1 in start_index:\n",
    "            part_value = part_dict[line_index][start_index.index(gear_dict[line_index][i] + 1)][2]\n",
    "            matches = matches + 1\n",
    "            match_prod = match_prod*part_value\n",
    "        # matches_above\n",
    "        for m in part_dict[line_index - 1]:\n",
    "            if not (m[0] >= gear_dict[line_index][i] + 2 or m[1] <= gear_dict[line_index][i] - 1):\n",
    "                matches = matches + 1\n",
    "                match_prod = match_prod*m[2]\n",
    "\n",
    "        # matches_below\n",
    "        for m in part_dict[line_index + 1]:\n",
    "            if not (m[0] >= gear_dict[line_index][i] + 2 or m[1] <= gear_dict[line_index][i] - 1):\n",
    "                matches = matches + 1\n",
    "                match_prod = match_prod*m[2]\n",
    "\n",
    "        if matches == 2:\n",
    "            gear_sum = gear_sum + match_prod\n",
    "\n",
    "gear_sum\n"
   ]
  },
  {
   "cell_type": "markdown",
   "metadata": {},
   "source": [
    "### Day 4"
   ]
  },
  {
   "cell_type": "code",
   "execution_count": null,
   "metadata": {},
   "outputs": [],
   "source": [
    "f = open('../data/day_4_input.txt', 'r')\n",
    "\n",
    "total_score = 0\n",
    "\n",
    "for line in f:\n",
    "\n",
    "    winners = [int(x) for x in re.findall(r'\\d+', line[re.search(\":\", line).end():re.search(\"\\|\", line).start()])]\n",
    "    candidates = [int(x) for x in re.findall(r'\\d+', line[re.search(\"\\|\", line).end():])]\n",
    "\n",
    "    matches = 0\n",
    "    for x in candidates:\n",
    "        if x in winners:\n",
    "            matches = matches + 1\n",
    "\n",
    "    if matches == 0:\n",
    "        points = 0\n",
    "    else:\n",
    "        points = 2**(matches - 1)\n",
    "\n",
    "    total_score = total_score + points\n",
    "\n",
    "total_score"
   ]
  },
  {
   "cell_type": "code",
   "execution_count": null,
   "metadata": {},
   "outputs": [],
   "source": [
    "f = open('../data/day_4_input.txt', 'r')\n",
    "\n",
    "total_score = 0\n",
    "card_dict = {}\n",
    "\n",
    "for line in f:\n",
    "\n",
    "    card_id = int(re.findall(r'\\d+', line[:re.search(\":\", line).start()])[0])\n",
    "    winners = [int(x) for x in re.findall(r'\\d+', line[re.search(\":\", line).end():re.search(\"\\|\", line).start()])]\n",
    "    candidates = [int(x) for x in re.findall(r'\\d+', line[re.search(\"\\|\", line).end():])]\n",
    "\n",
    "    matches = 0\n",
    "    for x in candidates:\n",
    "        if x in winners:\n",
    "            matches = matches + 1\n",
    "\n",
    "    new_cards = [x+1 for x in range(card_id, card_id + matches)]\n",
    "    card_dict[card_id] = new_cards\n",
    "\n",
    "card_list = {x + 1:1 for x in range(206)}\n",
    "\n",
    "for x in card_list.keys():\n",
    "    for num in card_list.keys():\n",
    "        if num in card_dict[x]:\n",
    "            card_list[num] = card_list[num] + card_list[x]\n",
    "\n",
    "sum(card_list.values())"
   ]
  },
  {
   "cell_type": "markdown",
   "metadata": {},
   "source": [
    "### Day 5"
   ]
  },
  {
   "cell_type": "code",
   "execution_count": 104,
   "metadata": {},
   "outputs": [],
   "source": [
    "f = open('../data/day_5_input.txt', 'r').read()\n",
    "\n",
    "def data_map(input, map_df):\n",
    "    for i in range(map_df.shape[0]):\n",
    "        if input in range(map_df[i][1], map_df[i][1]+map_df[i][2]):\n",
    "            return int(map_df[i][0] + input - map_df[i][1])\n",
    "    return int(input)\n",
    "\n",
    "cats = [\n",
    "    'seeds', \n",
    "    'seed-to-soil map',\n",
    "    'soil-to-fertilizer map', \n",
    "    'fertilizer-to-water map', \n",
    "    'water-to-light map', \n",
    "    'light-to-temperature map', \n",
    "    'temperature-to-humidity map',\n",
    "    'humidity-to-location map'\n",
    "    ]\n",
    "\n",
    "data_dict = {}\n",
    "\n",
    "for i in range(8):\n",
    "    if i == 0:\n",
    "        data_dict[cats[i]] =  [int(x) for x in re.findall(r'\\d+', f[re.search(cats[i], f).end():re.search(cats[i+1], f).start()])]\n",
    "    else:\n",
    "        if i < 7:\n",
    "            data_dict[cats[i]] = np.array([int(x) for x in re.findall(r'\\d+', f[re.search(cats[i], f).end():re.search(cats[i+1], f).start()])]).reshape((-1, 3))\n",
    "        else:\n",
    "            data_dict[cats[i]] = np.array([int(x) for x in re.findall(r'\\d+', f[re.search(cats[i], f).end():])]).reshape((-1, 3))\n"
   ]
  },
  {
   "cell_type": "code",
   "execution_count": 105,
   "metadata": {},
   "outputs": [
    {
     "name": "stdout",
     "output_type": "stream",
     "text": [
      "227653707\n"
     ]
    }
   ],
   "source": [
    "min_output = 999999999999999999999999\n",
    "\n",
    "for i in range(len(data_dict['seeds'])):\n",
    "\n",
    "    input = data_dict['seeds'][i]\n",
    "\n",
    "    for x in [x for x in data_dict.keys() if x != 'seeds']:\n",
    "        output = data_map(input, data_dict[x])\n",
    "        input = output\n",
    "\n",
    "    if output < min_output:\n",
    "        min_output = output\n",
    "\n",
    "print(min_output)\n"
   ]
  },
  {
   "cell_type": "code",
   "execution_count": 106,
   "metadata": {},
   "outputs": [],
   "source": [
    "seed_list = []\n",
    "for i in range(int(len(data_dict['seeds'])/2)):\n",
    "    seed_list.append(range(data_dict['seeds'][2*i], data_dict['seeds'][2*i] + data_dict['seeds'][2*i + 1]))"
   ]
  },
  {
   "cell_type": "code",
   "execution_count": 122,
   "metadata": {},
   "outputs": [
    {
     "name": "stdout",
     "output_type": "stream",
     "text": [
      "i:  5\n",
      "j:  121537743\n",
      "seed:  1799914545\n",
      "output:  78784898\n"
     ]
    }
   ],
   "source": [
    "# Returning a minimum with a huge step size over all possible seeds. \n",
    "# In this case, the square root of the length of each range\n",
    "min_output = 999999999999999999999999\n",
    "min_seed = 999999999999999999999999\n",
    "\n",
    "for i in range(len(seed_list)):\n",
    "    for j in range(0, len(seed_list[i]), math.floor(math.sqrt(len(seed_list[i])))):\n",
    "        input = seed_list[i][j]\n",
    "\n",
    "        for x in [x for x in data_dict.keys() if x != 'seeds']:\n",
    "            output = data_map(input, data_dict[x])\n",
    "            input = output\n",
    "\n",
    "        if output < min_output:\n",
    "            min_i = i\n",
    "            min_j = j\n",
    "            min_seed = seed_list[i][j]\n",
    "            min_output = output\n",
    "\n",
    "print('i: ', min_i)\n",
    "print('j: ', min_j)\n",
    "print('seed: ', min_seed)\n",
    "print('output: ', min_output)\n"
   ]
  },
  {
   "cell_type": "code",
   "execution_count": 125,
   "metadata": {},
   "outputs": [
    {
     "data": {
      "text/plain": [
       "11441"
      ]
     },
     "execution_count": 125,
     "metadata": {},
     "output_type": "execute_result"
    }
   ],
   "source": [
    "# The step size used for the range that contains this approximate minimum\n",
    "math.floor(math.sqrt(len(seed_list[5])))"
   ]
  },
  {
   "cell_type": "code",
   "execution_count": 126,
   "metadata": {},
   "outputs": [
    {
     "name": "stdout",
     "output_type": "stream",
     "text": [
      "i:  5\n",
      "j:  121527896\n",
      "seed:  1799904698\n",
      "output:  78775051\n"
     ]
    }
   ],
   "source": [
    "min_output = 999999999999999999999999\n",
    "min_seed = 999999999999999999999999\n",
    "\n",
    "# Fix the list that has the approximate minimum\n",
    "i = 5\n",
    "\n",
    "# Each the step size window around the approximate minimum\n",
    "for j in range(121537743 - 11441, 121537743 + 11441):\n",
    "    input = seed_list[i][j]\n",
    "\n",
    "    for x in [x for x in data_dict.keys() if x != 'seeds']:\n",
    "        output = data_map(input, data_dict[x])\n",
    "        input = output\n",
    "\n",
    "    if output < min_output:\n",
    "        min_i = i\n",
    "        min_j = j\n",
    "        min_seed = seed_list[i][j]\n",
    "        min_output = output\n",
    "\n",
    "print('i: ', min_i)\n",
    "print('j: ', min_j)\n",
    "print('seed: ', min_seed)\n",
    "print('output: ', min_output)"
   ]
  },
  {
   "cell_type": "markdown",
   "metadata": {},
   "source": [
    "### Day 6"
   ]
  },
  {
   "cell_type": "code",
   "execution_count": 77,
   "metadata": {},
   "outputs": [
    {
     "name": "stdout",
     "output_type": "stream",
     "text": [
      "Time:        41     66     72     66\n",
      "\n",
      "Distance:   244   1047   1228   1040\n"
     ]
    },
    {
     "data": {
      "text/plain": [
       "{'time': [41, 66, 72, 66], 'distance': [244, 1047, 1228, 1040]}"
      ]
     },
     "execution_count": 77,
     "metadata": {},
     "output_type": "execute_result"
    }
   ],
   "source": [
    "f = open('../data/day_6_input.txt', 'r')\n",
    "\n",
    "data_dict = {}\n",
    "\n",
    "for line in f:\n",
    "    print(line)\n",
    "    data = line.lower().replace(':', '').split()\n",
    "    data_dict[data[0]] = [int(x) for x in data[1:]]\n",
    "\n",
    "data_dict"
   ]
  },
  {
   "cell_type": "code",
   "execution_count": 50,
   "metadata": {},
   "outputs": [
    {
     "name": "stdout",
     "output_type": "stream",
     "text": [
      "26\n",
      "13\n",
      "17\n",
      "13\n",
      "74698\n"
     ]
    }
   ],
   "source": [
    "counter_prod = 1\n",
    "\n",
    "for race in range(len(data_dict['time'])):\n",
    "    counter = 0\n",
    "    for choice in range(data_dict['time'][race]+1):\n",
    "        if choice*(data_dict['time'][race]-choice) > data_dict['distance'][race]:\n",
    "            counter = counter + 1\n",
    "            \n",
    "    print(counter)\n",
    "    counter_prod = counter_prod*counter\n",
    "\n",
    "print(counter_prod)"
   ]
  },
  {
   "cell_type": "code",
   "execution_count": 86,
   "metadata": {},
   "outputs": [
    {
     "data": {
      "text/plain": [
       "27563421"
      ]
     },
     "execution_count": 86,
     "metadata": {},
     "output_type": "execute_result"
    }
   ],
   "source": [
    "ms = ''\n",
    "for i in range(len(data_dict['time'])):\n",
    "    ms = ms+str(data_dict['time'][i])\n",
    "\n",
    "ms = int(ms)\n",
    "\n",
    "dist = ''\n",
    "for i in range(len(data_dict['distance'])):\n",
    "    dist = dist + str(data_dict['distance'][i])\n",
    "\n",
    "dist = int(dist)\n",
    "\n",
    "root_1 = (ms + math.sqrt(ms**2 - 4*dist))/2\n",
    "root_2 = (ms - math.sqrt(ms**2 - 4*dist))/2\n",
    "\n",
    "len(range(math.ceil(root_2), math.ceil(root_1)))\n"
   ]
  },
  {
   "cell_type": "markdown",
   "metadata": {},
   "source": [
    "### Day 7"
   ]
  },
  {
   "cell_type": "code",
   "execution_count": 146,
   "metadata": {},
   "outputs": [],
   "source": [
    "hand_value_map = {\n",
    "    (5, None):(15**3)*6,\n",
    "    (4, 1):(15**3)*5,\n",
    "    (3, 2):(15**3)*4,\n",
    "    (3, 1):(15**3)*3,\n",
    "    (2, 2):(15**3)*2,\n",
    "    (2, 1):(15**3)*1,\n",
    "    (1, 1):(15**3)*0\n",
    "}\n",
    "\n",
    "card_map = {\n",
    "    '2':2,\n",
    "    '3':3,\n",
    "    '4':4,\n",
    "    '5':5,\n",
    "    '6':6,\n",
    "    '7':7,\n",
    "    '8':8,\n",
    "    '9':9,\n",
    "    '10':10,\n",
    "    'T':11,\n",
    "    'J':12,\n",
    "    'Q':13,\n",
    "    'K':14,\n",
    "    'A':15\n",
    "}\n",
    "\n",
    "card_map_jokers = {\n",
    "    'J':1,\n",
    "    '2':2,\n",
    "    '3':3,\n",
    "    '4':4,\n",
    "    '5':5,\n",
    "    '6':6,\n",
    "    '7':7,\n",
    "    '8':8,\n",
    "    '9':9,\n",
    "    '10':10,\n",
    "    'T':11,\n",
    "    'Q':12,\n",
    "    'K':13,\n",
    "    'A':14\n",
    "}\n",
    "\n",
    "def hand_value(hand:str, joker = False):\n",
    "    if joker == True:\n",
    "        hand = [card_map_jokers[x] for x in list(hand)]\n",
    "    else:\n",
    "        hand = [card_map[x] for x in list(hand)]\n",
    "\n",
    "    hand_grouped = {x:hand.count(x) for x in hand}\n",
    "\n",
    "    if joker == True:\n",
    "        wilds = hand_grouped.pop(1, 0)\n",
    "        \n",
    "    values_sorted = sorted(hand_grouped.values(), reverse=True)\n",
    "    if len(values_sorted) > 0:\n",
    "        largest_group = values_sorted[0]\n",
    "    else:\n",
    "        largest_group = 0\n",
    "    \n",
    "    if joker == True:\n",
    "        largest_group = largest_group + wilds\n",
    "\n",
    "    if largest_group == 5:\n",
    "        second_largest_group = None\n",
    "    else:\n",
    "        second_largest_group = values_sorted[1]\n",
    "\n",
    "    value = hand_value_map[(largest_group, second_largest_group)]\n",
    "\n",
    "    tiebreaker = 0\n",
    "    for i in range(5):\n",
    "        tiebreaker = tiebreaker + (hand[i]-1)/15**(i-2)\n",
    "\n",
    "    return value + tiebreaker"
   ]
  },
  {
   "cell_type": "code",
   "execution_count": 144,
   "metadata": {},
   "outputs": [
    {
     "data": {
      "text/plain": [
       "246912307.0"
      ]
     },
     "execution_count": 144,
     "metadata": {},
     "output_type": "execute_result"
    }
   ],
   "source": [
    "f = open('../data/day_7_input.txt', 'r')\n",
    "\n",
    "data_dict = {}\n",
    "\n",
    "i = 0\n",
    "for line in f:\n",
    "    data = line.split()\n",
    "    data_dict.update({i:{}})\n",
    "    data_dict[i]['hand'] = data[0]\n",
    "    data_dict[i]['bid'] = int(data[1])\n",
    "    i = i + 1\n",
    "\n",
    "df = pd.DataFrame.from_dict(data_dict, orient='index')\n",
    "\n",
    "part_1 = (df\n",
    "    .assign(value = df['hand'].apply(hand_value))\n",
    "    .assign(rank = lambda x: x['value'].rank())\n",
    ")\n",
    "\n",
    "sum(part_1['rank']*part_1['bid'])"
   ]
  },
  {
   "cell_type": "code",
   "execution_count": 147,
   "metadata": {},
   "outputs": [
    {
     "data": {
      "text/plain": [
       "246894760.0"
      ]
     },
     "execution_count": 147,
     "metadata": {},
     "output_type": "execute_result"
    }
   ],
   "source": [
    "part_2 = (df\n",
    "    .assign(value = df['hand'].apply(hand_value, joker=True))\n",
    "    .assign(rank = lambda x: x['value'].rank())\n",
    ")\n",
    "\n",
    "sum(part_2['rank']*part_2['bid'])"
   ]
  }
 ],
 "metadata": {
  "kernelspec": {
   "display_name": "Python 3",
   "language": "python",
   "name": "python3"
  },
  "language_info": {
   "codemirror_mode": {
    "name": "ipython",
    "version": 3
   },
   "file_extension": ".py",
   "mimetype": "text/x-python",
   "name": "python",
   "nbconvert_exporter": "python",
   "pygments_lexer": "ipython3",
   "version": "3.11.0"
  }
 },
 "nbformat": 4,
 "nbformat_minor": 2
}
