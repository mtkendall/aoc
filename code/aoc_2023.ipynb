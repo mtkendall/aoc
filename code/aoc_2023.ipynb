{
 "cells": [
  {
   "cell_type": "code",
   "execution_count": 3,
   "metadata": {},
   "outputs": [],
   "source": [
    "import re\n",
    "import pandas as pd\n",
    "import numpy as np\n",
    "import math\n",
    "import itertools"
   ]
  },
  {
   "cell_type": "markdown",
   "metadata": {},
   "source": [
    "### Day 1"
   ]
  },
  {
   "cell_type": "code",
   "execution_count": null,
   "metadata": {},
   "outputs": [],
   "source": [
    "f = open('../data/day_1_input.txt', 'r')\n",
    "\n",
    "sum = 0\n",
    "\n",
    "for line in f:\n",
    "    nums = re.findall(r'\\d', line)\n",
    "    sum = sum + int(str(nums[0])+str(nums[-1]))\n",
    "\n",
    "sum"
   ]
  },
  {
   "cell_type": "code",
   "execution_count": null,
   "metadata": {},
   "outputs": [],
   "source": [
    "f = open('../data/day_1_input.txt', 'r')\n",
    "\n",
    "sum = 0\n",
    "\n",
    "digit_dict = {\n",
    "    'one':1,\n",
    "    'two':2,\n",
    "    'three':3,\n",
    "    'four':4,\n",
    "    'five':5,\n",
    "    'six':6,\n",
    "    'seven':7,\n",
    "    'eight':8,\n",
    "    'nine':9\n",
    "    }\n",
    "\n",
    "for line in f:\n",
    "    nums = re.findall(r'(?=(\\d|one|two|three|four|five|six|seven|eight|nine))', line)\n",
    "    for value in range(len(nums)):\n",
    "        if nums[value] in digit_dict.keys():\n",
    "            nums[value] = digit_dict[nums[value]]\n",
    "    sum = sum + int(str(nums[0])+str(nums[-1]))\n",
    "\n",
    "sum"
   ]
  },
  {
   "cell_type": "markdown",
   "metadata": {},
   "source": [
    "### Day 2"
   ]
  },
  {
   "cell_type": "code",
   "execution_count": null,
   "metadata": {},
   "outputs": [],
   "source": [
    "df = pd.DataFrame(columns = ['game_id', 'draw_id', 'red', 'blue', 'green'])"
   ]
  },
  {
   "cell_type": "code",
   "execution_count": null,
   "metadata": {},
   "outputs": [],
   "source": [
    "f = open('../data/day_2_input.txt', 'r')\n",
    "\n",
    "df = pd.DataFrame(columns = ['game_id', 'draw_id', 'red', 'blue', 'green'])\n",
    "\n",
    "for line in f: \n",
    "    \n",
    "    game_dict = {}\n",
    "\n",
    "    colon = re.search(':', line).start()\n",
    "    game_id = int(re.findall(r'\\d+',line[:colon])[0])\n",
    "    game_dict['game_id'] = game_id\n",
    "\n",
    "    match = re.finditer(';', line)\n",
    "    draws = [colon] + [m.start() for m in match] + [len(line)]\n",
    "\n",
    "    for d in range(len(draws)-1):\n",
    "        draw_str = line[draws[d]+1:draws[d+1]] \n",
    "        draw_id = d\n",
    "        game_dict['draw_id'] = d\n",
    "\n",
    "        colors = re.findall(r'blue|green|red', draw_str)\n",
    "        scores = re.findall(r'\\d+', draw_str)\n",
    "        scores = [int(s) for s in scores]\n",
    "\n",
    "        draw_dict = dict(zip(colors, scores))\n",
    "\n",
    "        record_dict = game_dict.copy()\n",
    "        record_dict.update(draw_dict)\n",
    "        record_dict = {k:[record_dict[k]] for k in record_dict.keys()}\n",
    "        \n",
    "        df = pd.concat([df, pd.DataFrame.from_records(record_dict)])\n",
    "\n",
    "final_df = (\n",
    "    df\n",
    "    .fillna(0)\n",
    "    .assign(is_possible = lambda x: np.where((x['red']<=12) & (x['green']<=13) & (x['blue'] <= 14), 1, 0))\n",
    "    .groupby('game_id')\n",
    "    .agg({'is_possible':'min'})\n",
    "    .reset_index()\n",
    "    .loc[lambda x: x['is_possible']==1, :]\n",
    ")\n",
    "\n",
    "final_df['game_id'].sum()"
   ]
  },
  {
   "cell_type": "code",
   "execution_count": null,
   "metadata": {},
   "outputs": [],
   "source": [
    "final_df = (\n",
    "    df\n",
    "    .fillna(0)\n",
    "    .groupby('game_id')\n",
    "    .max()\n",
    "    .reset_index()\n",
    "    .assign(power = lambda x: x['red']*x['blue']*x['green'])\n",
    ")\n",
    "\n",
    "final_df['power'].sum()"
   ]
  },
  {
   "cell_type": "markdown",
   "metadata": {},
   "source": [
    "### Day 3"
   ]
  },
  {
   "cell_type": "code",
   "execution_count": null,
   "metadata": {},
   "outputs": [],
   "source": [
    "f = open('../data/day_3_input.txt', 'r')\n",
    "\n",
    "symbol_dict = {}\n",
    "index = 0\n",
    "\n",
    "for line in f:\n",
    "    match_symbol = re.finditer(r'[^A-Za-z0-9.\\n]', line)\n",
    "    symbol_dict[index] = [m.start() for m in match_symbol]\n",
    "    index = index + 1\n"
   ]
  },
  {
   "cell_type": "code",
   "execution_count": null,
   "metadata": {},
   "outputs": [],
   "source": [
    "f = open('../data/day_3_input.txt', 'r')\n",
    "\n",
    "gear_dict = {}\n",
    "index = 0\n",
    "\n",
    "for line in f:\n",
    "    match_symbol = re.finditer(r'\\*', line)\n",
    "    gear_dict[index] = [m.start() for m in match_symbol]\n",
    "    index = index + 1\n",
    "\n",
    "gear_dict"
   ]
  },
  {
   "cell_type": "code",
   "execution_count": null,
   "metadata": {},
   "outputs": [],
   "source": [
    "f = open('../data/day_3_input.txt', 'r')\n",
    "\n",
    "index = 0\n",
    "part_sum = 0\n",
    "\n",
    "for line in f:\n",
    "    match_part = re.finditer(r'\\d+', line)\n",
    "    parts = [(m.start(), m.end()) for m in match_part]\n",
    "    for p in parts:\n",
    "        is_valid = 0\n",
    "        value = int(line[p[0]:p[1]])\n",
    "        if p[0] - 1 in symbol_dict[index]:\n",
    "            is_valid = 1\n",
    "        if p[1] in symbol_dict[index]:\n",
    "            is_valid = 1\n",
    "        if index < 139:\n",
    "            for x in symbol_dict[index + 1]:\n",
    "                if x >= p[0] - 1 and x <= p[1]:\n",
    "                    is_valid = 1\n",
    "        if index > 1:\n",
    "            for x in symbol_dict[index - 1]:\n",
    "                if x >= p[0] - 1 and x <= p[1]:\n",
    "                    is_valid = 1\n",
    "        if is_valid == 1:\n",
    "            part_sum = part_sum + value\n",
    "    index = index + 1\n",
    "\n",
    "part_sum"
   ]
  },
  {
   "cell_type": "code",
   "execution_count": null,
   "metadata": {},
   "outputs": [],
   "source": [
    "f = open('../data/day_3_input.txt', 'r')\n",
    "\n",
    "part_dict = {}\n",
    "index = 0\n",
    "\n",
    "for line in f:\n",
    "    match_symbol = re.finditer(r'\\d+', line)\n",
    "    part_dict[index] = [(m.start(), m.end(), int(line[m.start():m.end()])) for m in match_symbol]\n",
    "    index = index + 1"
   ]
  },
  {
   "cell_type": "code",
   "execution_count": null,
   "metadata": {},
   "outputs": [],
   "source": [
    "f = open('../data/day_3_input.txt', 'r')\n",
    "\n",
    "gear_dict = {}\n",
    "index = 0\n",
    "\n",
    "for line in f:\n",
    "    match_symbol = re.finditer(r'\\*', line)\n",
    "    gear_dict[index] = [m.start() for m in match_symbol]\n",
    "    index = index + 1"
   ]
  },
  {
   "cell_type": "code",
   "execution_count": null,
   "metadata": {},
   "outputs": [],
   "source": [
    "gear_sum = 0\n",
    "\n",
    "for line_index in range(139):\n",
    "    for i in range(len(gear_dict[line_index])):\n",
    "        matches = 0\n",
    "        match_prod = 1\n",
    "        # match_left\n",
    "        end_index = [m[1] for m in part_dict[line_index]]\n",
    "        if gear_dict[line_index][i] in end_index:\n",
    "            part_value = part_dict[line_index][end_index.index(gear_dict[line_index][i])][2]\n",
    "            matches = matches + 1\n",
    "            match_prod = match_prod*part_value\n",
    "        # match_right\n",
    "        start_index = [m[0] for m in part_dict[line_index]]\n",
    "        if gear_dict[line_index][i] + 1 in start_index:\n",
    "            part_value = part_dict[line_index][start_index.index(gear_dict[line_index][i] + 1)][2]\n",
    "            matches = matches + 1\n",
    "            match_prod = match_prod*part_value\n",
    "        # matches_above\n",
    "        for m in part_dict[line_index - 1]:\n",
    "            if not (m[0] >= gear_dict[line_index][i] + 2 or m[1] <= gear_dict[line_index][i] - 1):\n",
    "                matches = matches + 1\n",
    "                match_prod = match_prod*m[2]\n",
    "\n",
    "        # matches_below\n",
    "        for m in part_dict[line_index + 1]:\n",
    "            if not (m[0] >= gear_dict[line_index][i] + 2 or m[1] <= gear_dict[line_index][i] - 1):\n",
    "                matches = matches + 1\n",
    "                match_prod = match_prod*m[2]\n",
    "\n",
    "        if matches == 2:\n",
    "            gear_sum = gear_sum + match_prod\n",
    "\n",
    "gear_sum\n"
   ]
  },
  {
   "cell_type": "markdown",
   "metadata": {},
   "source": [
    "### Day 4"
   ]
  },
  {
   "cell_type": "code",
   "execution_count": null,
   "metadata": {},
   "outputs": [],
   "source": [
    "f = open('../data/day_4_input.txt', 'r')\n",
    "\n",
    "total_score = 0\n",
    "\n",
    "for line in f:\n",
    "\n",
    "    winners = [int(x) for x in re.findall(r'\\d+', line[re.search(\":\", line).end():re.search(\"\\|\", line).start()])]\n",
    "    candidates = [int(x) for x in re.findall(r'\\d+', line[re.search(\"\\|\", line).end():])]\n",
    "\n",
    "    matches = 0\n",
    "    for x in candidates:\n",
    "        if x in winners:\n",
    "            matches = matches + 1\n",
    "\n",
    "    if matches == 0:\n",
    "        points = 0\n",
    "    else:\n",
    "        points = 2**(matches - 1)\n",
    "\n",
    "    total_score = total_score + points\n",
    "\n",
    "total_score"
   ]
  },
  {
   "cell_type": "code",
   "execution_count": null,
   "metadata": {},
   "outputs": [],
   "source": [
    "f = open('../data/day_4_input.txt', 'r')\n",
    "\n",
    "total_score = 0\n",
    "card_dict = {}\n",
    "\n",
    "for line in f:\n",
    "\n",
    "    card_id = int(re.findall(r'\\d+', line[:re.search(\":\", line).start()])[0])\n",
    "    winners = [int(x) for x in re.findall(r'\\d+', line[re.search(\":\", line).end():re.search(\"\\|\", line).start()])]\n",
    "    candidates = [int(x) for x in re.findall(r'\\d+', line[re.search(\"\\|\", line).end():])]\n",
    "\n",
    "    matches = 0\n",
    "    for x in candidates:\n",
    "        if x in winners:\n",
    "            matches = matches + 1\n",
    "\n",
    "    new_cards = [x+1 for x in range(card_id, card_id + matches)]\n",
    "    card_dict[card_id] = new_cards\n",
    "\n",
    "card_list = {x + 1:1 for x in range(206)}\n",
    "\n",
    "for x in card_list.keys():\n",
    "    for num in card_list.keys():\n",
    "        if num in card_dict[x]:\n",
    "            card_list[num] = card_list[num] + card_list[x]\n",
    "\n",
    "sum(card_list.values())"
   ]
  },
  {
   "cell_type": "markdown",
   "metadata": {},
   "source": [
    "### Day 5"
   ]
  },
  {
   "cell_type": "code",
   "execution_count": null,
   "metadata": {},
   "outputs": [],
   "source": [
    "f = open('../data/day_5_input.txt', 'r').read()\n",
    "\n",
    "def data_map(input, map_df):\n",
    "    for i in range(map_df.shape[0]):\n",
    "        if input in range(map_df[i][1], map_df[i][1]+map_df[i][2]):\n",
    "            return int(map_df[i][0] + input - map_df[i][1])\n",
    "    return int(input)\n",
    "\n",
    "cats = [\n",
    "    'seeds', \n",
    "    'seed-to-soil map',\n",
    "    'soil-to-fertilizer map', \n",
    "    'fertilizer-to-water map', \n",
    "    'water-to-light map', \n",
    "    'light-to-temperature map', \n",
    "    'temperature-to-humidity map',\n",
    "    'humidity-to-location map'\n",
    "    ]\n",
    "\n",
    "data_dict = {}\n",
    "\n",
    "for i in range(8):\n",
    "    if i == 0:\n",
    "        data_dict[cats[i]] =  [int(x) for x in re.findall(r'\\d+', f[re.search(cats[i], f).end():re.search(cats[i+1], f).start()])]\n",
    "    else:\n",
    "        if i < 7:\n",
    "            data_dict[cats[i]] = np.array([int(x) for x in re.findall(r'\\d+', f[re.search(cats[i], f).end():re.search(cats[i+1], f).start()])]).reshape((-1, 3))\n",
    "        else:\n",
    "            data_dict[cats[i]] = np.array([int(x) for x in re.findall(r'\\d+', f[re.search(cats[i], f).end():])]).reshape((-1, 3))\n"
   ]
  },
  {
   "cell_type": "code",
   "execution_count": null,
   "metadata": {},
   "outputs": [],
   "source": [
    "min_output = 999999999999999999999999\n",
    "\n",
    "for i in range(len(data_dict['seeds'])):\n",
    "\n",
    "    input = data_dict['seeds'][i]\n",
    "\n",
    "    for x in [x for x in data_dict.keys() if x != 'seeds']:\n",
    "        output = data_map(input, data_dict[x])\n",
    "        input = output\n",
    "\n",
    "    if output < min_output:\n",
    "        min_output = output\n",
    "\n",
    "print(min_output)\n"
   ]
  },
  {
   "cell_type": "code",
   "execution_count": null,
   "metadata": {},
   "outputs": [],
   "source": [
    "seed_list = []\n",
    "for i in range(int(len(data_dict['seeds'])/2)):\n",
    "    seed_list.append(range(data_dict['seeds'][2*i], data_dict['seeds'][2*i] + data_dict['seeds'][2*i + 1]))"
   ]
  },
  {
   "cell_type": "code",
   "execution_count": null,
   "metadata": {},
   "outputs": [],
   "source": [
    "# Returning a minimum with a huge step size over all possible seeds. \n",
    "# In this case, the square root of the length of each range\n",
    "min_output = 999999999999999999999999\n",
    "min_seed = 999999999999999999999999\n",
    "\n",
    "for i in range(len(seed_list)):\n",
    "    for j in range(0, len(seed_list[i]), math.floor(math.sqrt(len(seed_list[i])))):\n",
    "        input = seed_list[i][j]\n",
    "\n",
    "        for x in [x for x in data_dict.keys() if x != 'seeds']:\n",
    "            output = data_map(input, data_dict[x])\n",
    "            input = output\n",
    "\n",
    "        if output < min_output:\n",
    "            min_i = i\n",
    "            min_j = j\n",
    "            min_seed = seed_list[i][j]\n",
    "            min_output = output\n",
    "\n",
    "print('i: ', min_i)\n",
    "print('j: ', min_j)\n",
    "print('seed: ', min_seed)\n",
    "print('output: ', min_output)\n"
   ]
  },
  {
   "cell_type": "code",
   "execution_count": null,
   "metadata": {},
   "outputs": [],
   "source": [
    "# The step size used for the range that contains this approximate minimum\n",
    "math.floor(math.sqrt(len(seed_list[5])))"
   ]
  },
  {
   "cell_type": "code",
   "execution_count": null,
   "metadata": {},
   "outputs": [],
   "source": [
    "min_output = 999999999999999999999999\n",
    "min_seed = 999999999999999999999999\n",
    "\n",
    "# Fix the list that has the approximate minimum\n",
    "i = 5\n",
    "\n",
    "# Each the step size window around the approximate minimum\n",
    "for j in range(121537743 - 11441, 121537743 + 11441):\n",
    "    input = seed_list[i][j]\n",
    "\n",
    "    for x in [x for x in data_dict.keys() if x != 'seeds']:\n",
    "        output = data_map(input, data_dict[x])\n",
    "        input = output\n",
    "\n",
    "    if output < min_output:\n",
    "        min_i = i\n",
    "        min_j = j\n",
    "        min_seed = seed_list[i][j]\n",
    "        min_output = output\n",
    "\n",
    "print('i: ', min_i)\n",
    "print('j: ', min_j)\n",
    "print('seed: ', min_seed)\n",
    "print('output: ', min_output)"
   ]
  },
  {
   "cell_type": "markdown",
   "metadata": {},
   "source": [
    "### Day 6"
   ]
  },
  {
   "cell_type": "code",
   "execution_count": null,
   "metadata": {},
   "outputs": [],
   "source": [
    "f = open('../data/day_6_input.txt', 'r')\n",
    "\n",
    "data_dict = {}\n",
    "\n",
    "for line in f:\n",
    "    print(line)\n",
    "    data = line.lower().replace(':', '').split()\n",
    "    data_dict[data[0]] = [int(x) for x in data[1:]]\n",
    "\n",
    "data_dict"
   ]
  },
  {
   "cell_type": "code",
   "execution_count": null,
   "metadata": {},
   "outputs": [],
   "source": [
    "counter_prod = 1\n",
    "\n",
    "for race in range(len(data_dict['time'])):\n",
    "    counter = 0\n",
    "    for choice in range(data_dict['time'][race]+1):\n",
    "        if choice*(data_dict['time'][race]-choice) > data_dict['distance'][race]:\n",
    "            counter = counter + 1\n",
    "            \n",
    "    print(counter)\n",
    "    counter_prod = counter_prod*counter\n",
    "\n",
    "print(counter_prod)"
   ]
  },
  {
   "cell_type": "code",
   "execution_count": null,
   "metadata": {},
   "outputs": [],
   "source": [
    "ms = ''\n",
    "for i in range(len(data_dict['time'])):\n",
    "    ms = ms+str(data_dict['time'][i])\n",
    "\n",
    "ms = int(ms)\n",
    "\n",
    "dist = ''\n",
    "for i in range(len(data_dict['distance'])):\n",
    "    dist = dist + str(data_dict['distance'][i])\n",
    "\n",
    "dist = int(dist)\n",
    "\n",
    "root_1 = (ms + math.sqrt(ms**2 - 4*dist))/2\n",
    "root_2 = (ms - math.sqrt(ms**2 - 4*dist))/2\n",
    "\n",
    "len(range(math.ceil(root_2), math.ceil(root_1)))\n"
   ]
  },
  {
   "cell_type": "markdown",
   "metadata": {},
   "source": [
    "### Day 7"
   ]
  },
  {
   "cell_type": "code",
   "execution_count": null,
   "metadata": {},
   "outputs": [],
   "source": [
    "hand_value_map = {\n",
    "    (5, None):(15**3)*6,\n",
    "    (4, 1):(15**3)*5,\n",
    "    (3, 2):(15**3)*4,\n",
    "    (3, 1):(15**3)*3,\n",
    "    (2, 2):(15**3)*2,\n",
    "    (2, 1):(15**3)*1,\n",
    "    (1, 1):(15**3)*0\n",
    "}\n",
    "\n",
    "card_map = {\n",
    "    '2':2,\n",
    "    '3':3,\n",
    "    '4':4,\n",
    "    '5':5,\n",
    "    '6':6,\n",
    "    '7':7,\n",
    "    '8':8,\n",
    "    '9':9,\n",
    "    '10':10,\n",
    "    'T':11,\n",
    "    'J':12,\n",
    "    'Q':13,\n",
    "    'K':14,\n",
    "    'A':15\n",
    "}\n",
    "\n",
    "card_map_jokers = {\n",
    "    'J':1,\n",
    "    '2':2,\n",
    "    '3':3,\n",
    "    '4':4,\n",
    "    '5':5,\n",
    "    '6':6,\n",
    "    '7':7,\n",
    "    '8':8,\n",
    "    '9':9,\n",
    "    '10':10,\n",
    "    'T':11,\n",
    "    'Q':12,\n",
    "    'K':13,\n",
    "    'A':14\n",
    "}\n",
    "\n",
    "def hand_value(hand:str, joker = False):\n",
    "    if joker == True:\n",
    "        hand = [card_map_jokers[x] for x in list(hand)]\n",
    "    else:\n",
    "        hand = [card_map[x] for x in list(hand)]\n",
    "\n",
    "    hand_grouped = {x:hand.count(x) for x in hand}\n",
    "\n",
    "    if joker == True:\n",
    "        wilds = hand_grouped.pop(1, 0)\n",
    "        \n",
    "    values_sorted = sorted(hand_grouped.values(), reverse=True)\n",
    "    if len(values_sorted) > 0:\n",
    "        largest_group = values_sorted[0]\n",
    "    else:\n",
    "        largest_group = 0\n",
    "    \n",
    "    if joker == True:\n",
    "        largest_group = largest_group + wilds\n",
    "\n",
    "    if largest_group == 5:\n",
    "        second_largest_group = None\n",
    "    else:\n",
    "        second_largest_group = values_sorted[1]\n",
    "\n",
    "    value = hand_value_map[(largest_group, second_largest_group)]\n",
    "\n",
    "    tiebreaker = 0\n",
    "    for i in range(5):\n",
    "        tiebreaker = tiebreaker + (hand[i]-1)/15**(i-2)\n",
    "\n",
    "    return value + tiebreaker"
   ]
  },
  {
   "cell_type": "code",
   "execution_count": null,
   "metadata": {},
   "outputs": [],
   "source": [
    "f = open('../data/day_7_input.txt', 'r')\n",
    "\n",
    "data_dict = {}\n",
    "\n",
    "i = 0\n",
    "for line in f:\n",
    "    data = line.split()\n",
    "    data_dict.update({i:{}})\n",
    "    data_dict[i]['hand'] = data[0]\n",
    "    data_dict[i]['bid'] = int(data[1])\n",
    "    i = i + 1\n",
    "\n",
    "df = pd.DataFrame.from_dict(data_dict, orient='index')\n",
    "\n",
    "part_1 = (df\n",
    "    .assign(value = df['hand'].apply(hand_value))\n",
    "    .assign(rank = lambda x: x['value'].rank())\n",
    ")\n",
    "\n",
    "sum(part_1['rank']*part_1['bid'])"
   ]
  },
  {
   "cell_type": "code",
   "execution_count": null,
   "metadata": {},
   "outputs": [],
   "source": [
    "part_2 = (df\n",
    "    .assign(value = df['hand'].apply(hand_value, joker=True))\n",
    "    .assign(rank = lambda x: x['value'].rank())\n",
    ")\n",
    "\n",
    "sum(part_2['rank']*part_2['bid'])"
   ]
  },
  {
   "cell_type": "markdown",
   "metadata": {},
   "source": [
    "### Day 8"
   ]
  },
  {
   "cell_type": "code",
   "execution_count": null,
   "metadata": {},
   "outputs": [],
   "source": [
    "f = open('../data/day_8_input.txt', 'r')\n",
    "\n",
    "index = 0\n",
    "nodes = {}\n",
    "for line in f:\n",
    "    if index == 0:\n",
    "        instructions = line.strip()\n",
    "    if index >= 2: \n",
    "        line = line.strip()\n",
    "        idx = line.find('=')\n",
    "        nodes[line[:idx-1]] = line[idx+2:].replace('(', '').replace(')', '').replace(' ', '').split(',')\n",
    "    index = index + 1"
   ]
  },
  {
   "cell_type": "code",
   "execution_count": null,
   "metadata": {},
   "outputs": [],
   "source": [
    "current_node = 'AAA'\n",
    "step = 0\n",
    "while current_node != 'ZZZ' and step < 100000: \n",
    "    direction = instructions[step % len(instructions)]\n",
    "    if direction == 'L':\n",
    "        current_node = nodes[current_node][0]\n",
    "    else:\n",
    "        current_node = nodes[current_node][1]\n",
    "    step = step + 1\n",
    "\n",
    "step"
   ]
  },
  {
   "cell_type": "code",
   "execution_count": null,
   "metadata": {},
   "outputs": [],
   "source": [
    "for node in [x for x in nodes.keys() if x[2] == 'A']:\n",
    "    current_node = node\n",
    "    step = 0\n",
    "    while step < 100000: \n",
    "        direction = instructions[step % len(instructions)]\n",
    "        if direction == 'L':\n",
    "            current_node = nodes[current_node][0]\n",
    "        else:\n",
    "            current_node = nodes[current_node][1]\n",
    "        step = step + 1\n",
    "\n",
    "        if current_node[2] == 'Z':\n",
    "            print(step, step % len(instructions), node, current_node)"
   ]
  },
  {
   "cell_type": "markdown",
   "metadata": {},
   "source": [
    "+ DNA - 20569\n",
    "+ HNA - 18727\n",
    "+ AAA - 14429\n",
    "+ LMA - 13201 \n",
    "+ VGA - 18113\n",
    "+ LLA - 22411"
   ]
  },
  {
   "cell_type": "code",
   "execution_count": null,
   "metadata": {},
   "outputs": [],
   "source": [
    "cycles = [20569, 18727, 14429, 13201, 18113, 22411]"
   ]
  },
  {
   "cell_type": "code",
   "execution_count": null,
   "metadata": {},
   "outputs": [],
   "source": [
    "ans = math.lcm(20569, 18727)\n",
    "for i in range(2,6):\n",
    "    ans = math.lcm(ans, cycles[i])\n",
    "\n",
    "ans"
   ]
  },
  {
   "cell_type": "markdown",
   "metadata": {},
   "source": [
    "### Day 9"
   ]
  },
  {
   "cell_type": "code",
   "execution_count": null,
   "metadata": {},
   "outputs": [],
   "source": [
    "f = open('../data/day_9_input.txt', 'r')\n",
    "\n",
    "sequences = []\n",
    "for line in f:\n",
    "    sequences.append([int(x) for x in line.strip().split()])"
   ]
  },
  {
   "cell_type": "code",
   "execution_count": null,
   "metadata": {},
   "outputs": [],
   "source": [
    "f = open('../data/day_9_input.txt', 'r')\n",
    "\n",
    "sequences = []\n",
    "for line in f:\n",
    "    sequences.append([int(x) for x in line.strip().split()])\n",
    "\n",
    "ans = 0\n",
    "\n",
    "for pattern in sequences:\n",
    "    last_entries = [pattern[len(pattern)-1]]\n",
    "    diffs = np.array(pattern[1:]) - np.array(pattern[:-1]) \n",
    "\n",
    "    while ~np.all(diffs == 0):\n",
    "        last_entries.append(diffs[len(diffs)-1])\n",
    "        diffs = np.array(diffs[1:]) - np.array(diffs[:-1])\n",
    "\n",
    "\n",
    "    ans = ans + sum(last_entries)\n",
    "\n",
    "ans"
   ]
  },
  {
   "cell_type": "code",
   "execution_count": null,
   "metadata": {},
   "outputs": [],
   "source": [
    "f = open('../data/day_9_input.txt', 'r')\n",
    "\n",
    "sequences = []\n",
    "for line in f:\n",
    "    sequences.append([int(x) for x in line.strip().split()])\n",
    "\n",
    "ans = 0\n",
    "\n",
    "for pattern in sequences:\n",
    "    first_entries = [pattern[0]]\n",
    "    diffs = np.array(pattern[1:]) - np.array(pattern[:-1]) \n",
    "    \n",
    "    idx = 1\n",
    "    while ~np.all(diffs == 0):\n",
    "        first_entries.append(((-1)**idx)*diffs[0])\n",
    "        diffs = np.array(diffs[1:]) - np.array(diffs[:-1])\n",
    "        idx = idx + 1\n",
    "\n",
    "    ans = ans + sum(first_entries)\n",
    "\n",
    "ans"
   ]
  },
  {
   "cell_type": "markdown",
   "metadata": {},
   "source": [
    "### Day 10"
   ]
  },
  {
   "cell_type": "code",
   "execution_count": null,
   "metadata": {},
   "outputs": [],
   "source": [
    "f = open('../data/day_10_input.txt', 'r')\n",
    "\n",
    "grid = []\n",
    "\n",
    "for line in f:\n",
    "    grid.append(list(line.strip()))\n",
    "\n",
    "steps_away = np.zeros(np.array(grid).shape)"
   ]
  },
  {
   "cell_type": "code",
   "execution_count": null,
   "metadata": {},
   "outputs": [],
   "source": [
    "def connected_coords(x,y):\n",
    "    if grid[y][x] == '|':\n",
    "        return [[x, y+1], [x, y-1]]\n",
    "    if grid[y][x] == '-':\n",
    "        return [[x-1, y], [x+1, y]]\n",
    "    if grid[y][x] == 'L':\n",
    "        return [[x+1, y], [x, y-1]]\n",
    "    if grid[y][x] == 'J':\n",
    "        return [[x-1, y], [x, y-1]]\n",
    "    if grid[y][x] == '7':\n",
    "        return [[x-1, y], [x, y+1]]\n",
    "    if grid[y][x] == 'F':\n",
    "        return [[x+1, y], [x, y+1]] \n",
    "    else:\n",
    "        return None"
   ]
  },
  {
   "cell_type": "code",
   "execution_count": null,
   "metadata": {},
   "outputs": [],
   "source": [
    "current_coord = [88, 127]\n",
    "prior_coord = [88, 128]\n",
    "n_steps = 1\n",
    "\n",
    "while grid[current_coord[1]][current_coord[0]] != 'S':\n",
    "    steps_away[current_coord[1]][current_coord[0]] = n_steps\n",
    "    for option in connected_coords(current_coord[0], current_coord[1]):\n",
    "        if option != prior_coord:\n",
    "            prior_coord = current_coord\n",
    "            current_coord = option\n",
    "            n_steps = n_steps + 1\n",
    "            break\n"
   ]
  },
  {
   "cell_type": "code",
   "execution_count": null,
   "metadata": {},
   "outputs": [],
   "source": [
    "current_coord = [88, 129]\n",
    "prior_coord = [88, 128]\n",
    "n_steps = 1\n",
    "\n",
    "while grid[current_coord[1]][current_coord[0]] != 'S':\n",
    "    if steps_away[current_coord[1]][current_coord[0]] != 0:\n",
    "        if steps_away[current_coord[1]][current_coord[0]] > n_steps:\n",
    "            steps_away[current_coord[1]][current_coord[0]] = n_steps\n",
    "    for option in connected_coords(current_coord[0], current_coord[1]):\n",
    "        if option != prior_coord:\n",
    "            prior_coord = current_coord\n",
    "            current_coord = option\n",
    "            n_steps = n_steps + 1\n",
    "            break\n"
   ]
  },
  {
   "cell_type": "code",
   "execution_count": null,
   "metadata": {},
   "outputs": [],
   "source": [
    "steps_away.max()"
   ]
  },
  {
   "cell_type": "markdown",
   "metadata": {},
   "source": [
    "### Day 11"
   ]
  },
  {
   "cell_type": "code",
   "execution_count": null,
   "metadata": {},
   "outputs": [],
   "source": [
    "f = open('../data/day_11_input.txt', 'r')\n",
    "\n",
    "grid = []\n",
    "\n",
    "for line in f:\n",
    "    grid.append(list(line.strip()))\n",
    "\n",
    "grid = np.array(grid)\n",
    "\n",
    "added_rows = 0\n",
    "for row in range(grid.shape[0]):\n",
    "    idx = row + added_rows\n",
    "    if np.all(grid[idx] == '.'):\n",
    "        grid = np.concatenate((grid[:idx], grid[idx].reshape((1, grid.shape[1])), grid[idx:]), axis = 0)\n",
    "        added_rows = added_rows + 1\n",
    "\n",
    "added_cols = 0\n",
    "for col in range(grid.shape[1]):\n",
    "    idx = col + added_cols\n",
    "    if np.all(grid[:, idx] == '.'):\n",
    "        grid = np.concatenate((grid[:, :idx], grid[:, idx].reshape((grid.shape[0],1)), grid[:, idx:]), axis = 1)\n",
    "        added_cols = added_cols + 1\n",
    "\n",
    "galaxies = []\n",
    "for x in range(grid.shape[1]):\n",
    "    for y in range(grid.shape[0]):\n",
    "        if grid[y][x] == '#':\n",
    "            galaxies.append((x, y))\n",
    "\n",
    "ans = 0\n",
    "for pair in itertools.combinations(galaxies, 2):\n",
    "    ans = ans + abs(pair[0][0] - pair[1][0]) + abs(pair[0][1] - pair[1][1])\n",
    "\n",
    "ans"
   ]
  },
  {
   "cell_type": "code",
   "execution_count": null,
   "metadata": {},
   "outputs": [],
   "source": [
    "f = open('../data/day_11_input.txt', 'r')\n",
    "\n",
    "grid = []\n",
    "\n",
    "for line in f:\n",
    "    grid.append(list(line.strip()))\n",
    "\n",
    "grid = np.array(grid)\n",
    "\n",
    "empty_rows = []\n",
    "for row in range(grid.shape[0]):\n",
    "    if np.all(grid[row] == '.'):\n",
    "        empty_rows.append(row)\n",
    "\n",
    "empty_cols = []\n",
    "for col in range(grid.shape[1]):\n",
    "    if np.all(grid[:, col] == '.'):\n",
    "        empty_cols.append(col)\n",
    "\n",
    "\n",
    "galaxies = []\n",
    "for x in range(grid.shape[1]):\n",
    "    for y in range(grid.shape[0]):\n",
    "        if grid[y][x] == '#':\n",
    "            galaxies.append((x, y))\n",
    "\n",
    "ans = 0\n",
    "expansion_factor = 999999\n",
    "for pair in itertools.combinations(galaxies, 2):\n",
    "    normal_rows = abs(pair[0][0] - pair[1][0])\n",
    "\n",
    "    if pair[0][0] < pair[1][0]:\n",
    "        extra_cols = expansion_factor*len([x for x in empty_cols if x in range(pair[0][0], pair[1][0])])\n",
    "    else:\n",
    "        extra_cols = expansion_factor*len([x for x in empty_cols if x in range(pair[1][0], pair[0][0])])\n",
    "\n",
    "    normal_cols = abs(pair[0][1] - pair[1][1])\n",
    "\n",
    "    if pair[0][1] < pair[1][1]:\n",
    "        extra_rows = expansion_factor*len([x for x in empty_rows if x in range(pair[0][1], pair[1][1])])\n",
    "    else:\n",
    "        extra_rows = expansion_factor*len([x for x in empty_rows if x in range(pair[1][1], pair[0][1])])\n",
    "\n",
    "    ans = ans + normal_rows + extra_rows + normal_cols + extra_cols\n",
    "\n",
    "ans\n"
   ]
  },
  {
   "cell_type": "markdown",
   "metadata": {},
   "source": [
    "#### Day 12"
   ]
  },
  {
   "cell_type": "code",
   "execution_count": 17,
   "metadata": {},
   "outputs": [
    {
     "data": {
      "text/plain": [
       "7350"
      ]
     },
     "execution_count": 17,
     "metadata": {},
     "output_type": "execute_result"
    }
   ],
   "source": [
    "ques_options = ['.', '#']\n",
    "chunk_mem = {}\n",
    "\n",
    "f = open('../data/day_12_input.txt', 'r')\n",
    "\n",
    "count = 0\n",
    "for line in f:\n",
    "    springs = line.strip().split(' ')[0]\n",
    "    solution = [int(x) for x in line.strip().split(' ')[1].split(',')]\n",
    "\n",
    "    min_runs = [x for x in springs.split('.') if x != '']\n",
    "    chunk_options = []\n",
    "\n",
    "    for run in range(len(min_runs)):\n",
    "        chunk_options.append([])\n",
    "\n",
    "        if min_runs[run] in chunk_mem.keys():\n",
    "            chunk_options[run] = chunk_mem[min_runs[run]]\n",
    "        else:\n",
    "            choices = list(itertools.product([0, 1], repeat=min_runs[run].count('?')))\n",
    "            replace_index = [i for i, ltr in enumerate(min_runs[run]) if ltr == '?']\n",
    "            string_to_eval = min_runs[run]\n",
    "\n",
    "        for choice in choices:\n",
    "            for i in range(len(choice)):\n",
    "                string_to_eval = string_to_eval[:replace_index[i]] + ques_options[choice[i]] + string_to_eval[replace_index[i]+1:]\n",
    "            chunk_options[run].append([len(x) for x in string_to_eval.split('.') if x != ''])\n",
    "\n",
    "    combs = [range(len(chunk_options[x])) for x in range(len(chunk_options))]\n",
    "    combs = list(itertools.product(*combs))\n",
    "\n",
    "    for x in combs:\n",
    "        ans = []\n",
    "        for i in range(len(chunk_options)):\n",
    "            ans = ans + chunk_options[i][x[i]]\n",
    "        if ans == solution:\n",
    "            count = count + 1\n",
    "\n",
    "count"
   ]
  },
  {
   "cell_type": "code",
   "execution_count": 36,
   "metadata": {},
   "outputs": [],
   "source": [
    "chunk_mem = {}\n",
    "ques_options = ['.', '#']\n",
    "count = 0\n",
    "\n",
    "line = '?###???????? 3,2,1'\n",
    "springs = 5*(line.strip().split(' ')[0]+'?')\n",
    "springs = springs[:-1]\n",
    "solution = 5*[int(x) for x in line.strip().split(' ')[1].split(',')]\n",
    "\n",
    "\n",
    "min_runs = [x for x in springs.split('.') if x != '']\n",
    "chunk_options = []"
   ]
  },
  {
   "cell_type": "markdown",
   "metadata": {},
   "source": [
    "### Day 13"
   ]
  },
  {
   "cell_type": "code",
   "execution_count": 207,
   "metadata": {},
   "outputs": [
    {
     "data": {
      "text/plain": [
       "35360"
      ]
     },
     "execution_count": 207,
     "metadata": {},
     "output_type": "execute_result"
    }
   ],
   "source": [
    "f = open('../data/day_13_input.txt').read()\n",
    "\n",
    "patterns = [x.split('\\n') for x in f.split('\\n\\n')]\n",
    "\n",
    "cols_above = 0\n",
    "rows_left = 0\n",
    "\n",
    "idx = 0\n",
    "for pattern in patterns:\n",
    "    for fold in range(1, len(pattern)):\n",
    "        top_half = pattern[:fold]\n",
    "        bottom_half = pattern[fold:]\n",
    "\n",
    "        if len(top_half) > len(bottom_half):\n",
    "            top_half = top_half[-len(bottom_half):]\n",
    "        else:\n",
    "            bottom_half = bottom_half[:len(top_half)]\n",
    "\n",
    "        bottom_half.reverse()\n",
    "\n",
    "        if top_half == bottom_half:\n",
    "            cols_above = cols_above + fold\n",
    "\n",
    "    for fold in range(1, len(pattern[0])):\n",
    "        left_half = [x[:fold] for x in pattern]\n",
    "        right_half = [x[fold:] for x in pattern]\n",
    "\n",
    "        if len(left_half[0]) > len(right_half[0]):\n",
    "            left_half = [x[-len(right_half[0]):] for x in left_half]\n",
    "        else:\n",
    "            right_half = [x[:len(left_half[0])] for x in right_half]\n",
    "\n",
    "        right_half = [x[::-1] for x in right_half]\n",
    "\n",
    "        if left_half == right_half:\n",
    "            rows_left = rows_left + fold\n",
    "\n",
    "    idx = idx + 1\n",
    "\n",
    "100*cols_above + rows_left"
   ]
  },
  {
   "cell_type": "code",
   "execution_count": 208,
   "metadata": {},
   "outputs": [
    {
     "data": {
      "text/plain": [
       "36755"
      ]
     },
     "execution_count": 208,
     "metadata": {},
     "output_type": "execute_result"
    }
   ],
   "source": [
    "f = open('../data/day_13_input.txt').read()\n",
    "\n",
    "patterns = [x.split('\\n') for x in f.split('\\n\\n')]\n",
    "\n",
    "# counting up the new mirrors\n",
    "cols_above = 0\n",
    "rows_left = 0\n",
    "\n",
    "# correcting the smudges\n",
    "for i in range(len(patterns)):\n",
    "\n",
    "    new_pattern = np.array([list(x.replace('#', '1').replace('.', '0')) for x in patterns[i]]).astype(int)\n",
    "\n",
    "    corrected = 0\n",
    "    for fold in range(1, new_pattern.shape[0]): \n",
    "        top_half = new_pattern[:fold]\n",
    "        bottom_half = new_pattern[fold:]\n",
    "\n",
    "        if top_half.shape[0] > bottom_half.shape[0]:\n",
    "            top_half = top_half[-bottom_half.shape[0]:]\n",
    "        else:\n",
    "            bottom_half = bottom_half[:top_half.shape[0]]\n",
    "\n",
    "        bottom_half = bottom_half[::-1]\n",
    "\n",
    "        diffs = ((top_half - bottom_half)**2)\n",
    "\n",
    "        if diffs.sum() == 1:\n",
    "            smudge = np.argwhere(diffs != 0)[0]\n",
    "            spot_to_change = new_pattern[fold - diffs.shape[0] + smudge[0], smudge[1]]\n",
    "            if spot_to_change == 0:\n",
    "                new_pattern[fold - diffs.shape[0] + smudge[0], smudge[1]] = 1\n",
    "            else:\n",
    "                new_pattern[fold - diffs.shape[0] + smudge[0], smudge[1]] = 0\n",
    "            corrected = 1\n",
    "            cols_above = cols_above + fold\n",
    "            break\n",
    "\n",
    "    if corrected == 0:\n",
    "        for fold in range(1, new_pattern.shape[1]):\n",
    "            left_half = new_pattern[:, :fold]\n",
    "            right_half = new_pattern[:, fold:]\n",
    "\n",
    "            if left_half.shape[1] > right_half.shape[1]:\n",
    "                left_half = left_half[:, -right_half.shape[1]:]\n",
    "            else:\n",
    "                right_half = right_half[:, :left_half.shape[1]]\n",
    "\n",
    "            right_half = right_half[:, ::-1]\n",
    "\n",
    "            diffs = ((left_half - right_half)**2)\n",
    "\n",
    "            if diffs.sum() == 1:\n",
    "                smudge = np.argwhere(diffs != 0)[0]\n",
    "                spot_to_change = new_pattern[smudge[0], fold - diffs.shape[1] + smudge[1]]\n",
    "                if spot_to_change == 0:\n",
    "                    new_pattern[smudge[0], fold - diffs.shape[1] + smudge[1]] = 1\n",
    "                else:\n",
    "                    new_pattern[smudge[0], fold - diffs.shape[1] + smudge[1]] = 0\n",
    "                rows_left = rows_left + fold\n",
    "                break\n",
    "\n",
    "100*cols_above + rows_left\n"
   ]
  },
  {
   "cell_type": "markdown",
   "metadata": {},
   "source": [
    "### Day 14"
   ]
  },
  {
   "cell_type": "code",
   "execution_count": 65,
   "metadata": {},
   "outputs": [],
   "source": [
    "f = open('../data/day_14_input.txt').read()\n",
    "\n",
    "platform = np.array([list(x) for x in f.replace('O', '1').replace('.', '0').replace('#', '9').split('\\n')]).astype(int)"
   ]
  },
  {
   "cell_type": "code",
   "execution_count": 66,
   "metadata": {},
   "outputs": [],
   "source": [
    "def tilt(platform):\n",
    "\n",
    "    new_platform = platform.copy()\n",
    "\n",
    "    for col in range(platform.shape[1]):\n",
    "        slice = platform[:, col]\n",
    "        new_slice = platform[:, col].copy()\n",
    "\n",
    "        rounds = np.where(platform[:, col] == 1)[0]\n",
    "        cubes = np.where(platform[:, col] == 9)[0]\n",
    "        cubes = [-1] + [x for x in cubes] + [platform.shape[0] + 1]\n",
    "\n",
    "        for idx in range(len(cubes)-1):\n",
    "            new_slice[cubes[idx]+1:cubes[idx+1]] = -np.sort(-new_slice[cubes[idx]+1:cubes[idx+1]])\n",
    "\n",
    "        new_platform[:, col] = new_slice\n",
    "\n",
    "    return new_platform\n",
    "\n",
    "def cycle(platform):\n",
    "    for i in range(4):\n",
    "        platform = tilt(platform)\n",
    "        platform = np.rot90(platform, 3)\n",
    "    return platform\n",
    "\n",
    "def north_load(platform):\n",
    "    return (platform*np.array(range(platform.shape[0], 0, -1)).reshape((platform.shape[0], 1)))[platform==1].sum()\n"
   ]
  },
  {
   "cell_type": "code",
   "execution_count": 67,
   "metadata": {},
   "outputs": [
    {
     "data": {
      "text/plain": [
       "113525"
      ]
     },
     "execution_count": 67,
     "metadata": {},
     "output_type": "execute_result"
    }
   ],
   "source": [
    "north_load(tilt(platform))"
   ]
  },
  {
   "cell_type": "code",
   "execution_count": 90,
   "metadata": {},
   "outputs": [
    {
     "name": "stdout",
     "output_type": "stream",
     "text": [
      "0.0\n"
     ]
    }
   ],
   "source": [
    "# Work in progress - to answer the problem I did this manually in Excel the first time. \n",
    "\n",
    "# Need to write a function that collapses my array to a string and back again\n",
    "mem = {}\n",
    "for i in range(1, 251):\n",
    "    platform = cycle(platform)\n",
    "    platform_str = platform.tobytes()\n",
    "    if platform_str in mem:\n",
    "        first_repeat = mem[platform_str]\n",
    "        period = i - mem[platform_str]\n",
    "        break\n",
    "    else:\n",
    "        mem[platform_str] = i\n",
    "\n",
    "index = {}\n",
    "for s, i in mem.items():\n",
    "    index[i] = s\n",
    "\n",
    "def cycle_value(cycle_count):\n",
    "    return north_load(np.frombuffer(index[(first_repeat + (cycle_count - first_repeat) % period)], like=platform))\n",
    "\n",
    "print(cycle_value(1000000000))"
   ]
  },
  {
   "cell_type": "markdown",
   "metadata": {},
   "source": [
    "### Day 15"
   ]
  },
  {
   "cell_type": "code",
   "execution_count": 87,
   "metadata": {},
   "outputs": [],
   "source": [
    "def aoc_hash(string):\n",
    "    current = 0\n",
    "    for a in string:\n",
    "        current = current + ord(a)\n",
    "        current = 17*current\n",
    "        current = current % 256\n",
    "    return current"
   ]
  },
  {
   "cell_type": "code",
   "execution_count": 88,
   "metadata": {},
   "outputs": [],
   "source": [
    "f = open('../data/day_15_input.txt').read()\n",
    "\n",
    "score = 0\n",
    "for x in f.strip().split(','):\n",
    "    score = score + aoc_hash(x)"
   ]
  },
  {
   "cell_type": "code",
   "execution_count": 89,
   "metadata": {},
   "outputs": [
    {
     "data": {
      "text/plain": [
       "506437"
      ]
     },
     "execution_count": 89,
     "metadata": {},
     "output_type": "execute_result"
    }
   ],
   "source": [
    "score"
   ]
  },
  {
   "cell_type": "code",
   "execution_count": 90,
   "metadata": {},
   "outputs": [],
   "source": [
    "f = open('../data/day_15_input.txt').read()\n",
    "\n",
    "instructions = f.strip().split(',')\n",
    "\n",
    "boxes = {x:{} for x in range(256)}\n",
    "\n",
    "for sample in instructions:\n",
    "    if sample[-1] == '-':\n",
    "        action = '-'\n",
    "        label = sample[:-1]\n",
    "        focal_power = None\n",
    "        box = aoc_hash(label)\n",
    "        boxes[box].pop(label, None)\n",
    "    else:\n",
    "        action = '='\n",
    "        label, focal_power = sample.split('=')\n",
    "        box = aoc_hash(label)\n",
    "        boxes[box].update({label:focal_power})\n",
    "\n",
    "power = 0\n",
    "for box in boxes:\n",
    "    for i in range(len(boxes[box])):\n",
    "        power = power + (box+1)*(i+1)*(int(list(boxes[box].values())[i]))"
   ]
  },
  {
   "cell_type": "code",
   "execution_count": 91,
   "metadata": {},
   "outputs": [
    {
     "data": {
      "text/plain": [
       "288521"
      ]
     },
     "execution_count": 91,
     "metadata": {},
     "output_type": "execute_result"
    }
   ],
   "source": [
    "power"
   ]
  }
 ],
 "metadata": {
  "kernelspec": {
   "display_name": "Python 3",
   "language": "python",
   "name": "python3"
  },
  "language_info": {
   "codemirror_mode": {
    "name": "ipython",
    "version": 3
   },
   "file_extension": ".py",
   "mimetype": "text/x-python",
   "name": "python",
   "nbconvert_exporter": "python",
   "pygments_lexer": "ipython3",
   "version": "3.11.0"
  }
 },
 "nbformat": 4,
 "nbformat_minor": 2
}
